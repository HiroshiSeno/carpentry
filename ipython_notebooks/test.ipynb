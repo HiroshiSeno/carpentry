{
 "cells": [
  {
   "cell_type": "code",
   "execution_count": 2,
   "metadata": {
    "collapsed": true
   },
   "outputs": [],
   "source": [
    "import numpy as np\n",
    "import scipy as sp\n",
    "import matplotlib.pyplot as plt\n",
    "\n",
    "%matplotlib inline"
   ]
  },
  {
   "cell_type": "code",
   "execution_count": 1,
   "metadata": {
    "collapsed": false
   },
   "outputs": [
    {
     "data": {
      "text/plain": [
       "['',\n",
       " '/opt/conda/lib/python27.zip',\n",
       " '/opt/conda/lib/python2.7',\n",
       " '/opt/conda/lib/python2.7/plat-linux2',\n",
       " '/opt/conda/lib/python2.7/lib-tk',\n",
       " '/opt/conda/lib/python2.7/lib-old',\n",
       " '/opt/conda/lib/python2.7/lib-dynload',\n",
       " '/opt/conda/lib/python2.7/site-packages',\n",
       " '/opt/conda/lib/python2.7/site-packages/Sphinx-1.5.1-py2.7.egg',\n",
       " '/opt/conda/lib/python2.7/site-packages/IPython/extensions',\n",
       " '/root/.ipython',\n",
       " '/notebooks/carputils',\n",
       " '/notebooks/examples']"
      ]
     },
     "execution_count": 1,
     "metadata": {},
     "output_type": "execute_result"
    }
   ],
   "source": [
    "import sys\n",
    "sys.path.append('/notebooks/carputils')\n",
    "sys.path.append('/notebooks/examples')\n",
    "\n",
    "sys.path"
   ]
  },
  {
   "cell_type": "code",
   "execution_count": 13,
   "metadata": {
    "collapsed": false
   },
   "outputs": [
    {
     "name": "stdout",
     "output_type": "stream",
     "text": [
      "======================================================================\n",
      "SETTINGS SUMMARY\n",
      "======================================================================\n",
      "Executables\n",
      "----------------------------------------------------------------------\n",
      "   CARP:            /notebooks/carputils/bin/carphelp\n",
      "   MESHER:          /notebooks/carputils/bin/mesher\n",
      "   FSM:             < NOT FOUND >\n",
      "   BENCH:           < NOT FOUND >\n",
      "   GLINTERPOLATE:   < NOT FOUND >\n",
      "   GLGRADIENT:      < NOT FOUND >\n",
      "   GLELEMCENTERS:   < NOT FOUND >\n",
      "   GLMESHCONVERT:   < NOT FOUND >\n",
      "   GLVTKCONVERT:    < NOT FOUND >\n",
      "   GLTRANSFER:      < NOT FOUND >\n",
      "   GLRULEFIBERS:    < NOT FOUND >\n",
      "   ELLIPTICSOLVER:  < NOT FOUND >\n",
      "   PARABOLICSOLVER: < NOT FOUND >\n",
      "   ADJOINTSOLVER:   < NOT FOUND >\n",
      "   GLFILAMENT:      < NOT FOUND >\n",
      "   GLIGBPROCESS:    < NOT FOUND >\n",
      "   SURFACEMESH:     < NOT FOUND >\n",
      "   GLSURFACECONVERT: < NOT FOUND >\n",
      "   MESHTOOL:        < NOT FOUND >\n",
      "   ELASTICITY:      < NOT FOUND >\n",
      "   FLUIDSOLVE:      < NOT FOUND >\n",
      "   CVSTOOL:         < NOT FOUND >\n",
      "   IGBHEAD:         < NOT FOUND >\n",
      "   IGBOPS:          < NOT FOUND >\n",
      "   IGBEXTRACT:      < NOT FOUND >\n",
      "   IGBAPD:          < NOT FOUND >\n",
      "   IGBDFT:          < NOT FOUND >\n",
      "   MESHALYZER:      < NOT FOUND >\n",
      "   MODH5:           < NOT FOUND >\n",
      "   DATH5:           < NOT FOUND >\n",
      "   LIMPETGUI:       < NOT FOUND >\n",
      "   SV2H5B:          < NOT FOUND >\n",
      "   SV2H5T:          < NOT FOUND >\n",
      "   EKBATCH:         < NOT FOUND >\n",
      "   EKSOLVE:         < NOT FOUND >\n",
      "   LIMPETFE:        < NOT FOUND >\n",
      "   TUNECV:          < NOT FOUND >\n",
      "   BEMECG:          < NOT FOUND >\n",
      "----------------------------------------------------------------------\n",
      "Command Line Options\n",
      "----------------------------------------------------------------------\n",
      "   NP:        1\n",
      "   BUILD:     CPU\n",
      "   FLAVOR:    pt\n",
      "   DRY:       False\n",
      "   VISUALIZE: False\n",
      "----------------------------------------------------------------------\n",
      "Solver Option Files\n",
      "----------------------------------------------------------------------\n",
      "   Parabolic: /notebooks/carputils/carputils/resources/options/pt_para_amg\n",
      "   Elliptic:  /notebooks/carputils/carputils/resources/options/pt_ell_amg\n",
      "   Purkinje:  /notebooks/carputils/carputils/resources/petsc_options/petsc_purk_gmres_opts\n",
      "----------------------------------------------------------------------\n",
      "System Settings\n",
      "----------------------------------------------------------------------\n",
      "   Python:    2.7.16\n",
      "----------------------------------------------------------------------\n",
      "Email: sb.h.h78181@gmail.com\n",
      "======================================================================\n",
      "\n",
      "2019-06-24_basic_20.0 does already exist...\n",
      "()\n",
      "Requested mesh already exists, skipping generation.\n",
      "#---------------------------------------------------------------------\n",
      "#           Launching CARP Simulation 2019-06-24_basic_20.0\n",
      "#---------------------------------------------------------------------\n",
      "\n",
      "/notebooks/carputils/bin/carphelp \\\n",
      "  +F basic.par \\\n",
      "  +F /notebooks/carputils/carputils/resources/options/pt_ell_amg \\\n",
      "  +F /notebooks/carputils/carputils/resources/options/pt_para_amg \\\n",
      "  -ellip_use_pt 1 \\\n",
      "  -parab_use_pt 1 \\\n",
      "  -purk_use_pt 0 \\\n",
      "  -ellip_options_file /notebooks/carputils/carputils/resources/options/pt_ell_amg \\\n",
      "  -parab_options_file /notebooks/carputils/carputils/resources/options/pt_para_amg \\\n",
      "  -purk_options_file /notebooks/carputils/carputils/resources/petsc_options/petsc_purk_gmres_opts \\\n",
      "  -vectorized_fe 0 \\\n",
      "  -simID 2019-06-24_basic_20.0 \\\n",
      "  -meshname meshes/2019-06-24_cxQDTxACIH/block \\\n",
      "  -dt 25 \\\n",
      "  -tend 20.0 \\\n",
      "  -num_stim 1 \\\n",
      "  -stimulus[0].name S1 \\\n",
      "  -stimulus[0].stimtype 0 \\\n",
      "  -stimulus[0].strength 20.0 \\\n",
      "  -stimulus[0].duration 15.0 \\\n",
      "  -stimulus[0].x0 -5050.0 \\\n",
      "  -stimulus[0].xd 100.0 \\\n",
      "  -stimulus[0].y0 -550.0 \\\n",
      "  -stimulus[0].yd 1100.0 \\\n",
      "  -stimulus[0].z0 -150.0 \\\n",
      "  -stimulus[0].zd 300.0\n",
      "\n",
      "Traceback (most recent call last):\n",
      "  File \"/notebooks/carputils/bin/carphelp\", line 6, in <module>\n",
      "    import carputils.cml\n",
      "ImportError: No module named carputils.cml\n"
     ]
    }
   ],
   "source": [
    "%run -i ../examples/tutorials/02_EP_tissue/01_basic_usage/run.py --duration 20 --S1-strength 20. --S1-dur 15"
   ]
  },
  {
   "cell_type": "code",
   "execution_count": 19,
   "metadata": {
    "collapsed": false
   },
   "outputs": [
    {
     "name": "stdout",
     "output_type": "stream",
     "text": [
      "/opt/conda/bin/python\r\n"
     ]
    }
   ],
   "source": [
    "! which python"
   ]
  },
  {
   "cell_type": "code",
   "execution_count": null,
   "metadata": {
    "collapsed": true
   },
   "outputs": [],
   "source": []
  }
 ],
 "metadata": {
  "kernelspec": {
   "display_name": "Python 2",
   "language": "python",
   "name": "python2"
  },
  "language_info": {
   "codemirror_mode": {
    "name": "ipython",
    "version": 2
   },
   "file_extension": ".py",
   "mimetype": "text/x-python",
   "name": "python",
   "nbconvert_exporter": "python",
   "pygments_lexer": "ipython2",
   "version": "2.7.16"
  }
 },
 "nbformat": 4,
 "nbformat_minor": 2
}
