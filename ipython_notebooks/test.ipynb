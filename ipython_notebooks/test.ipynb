{
 "cells": [
  {
   "cell_type": "code",
   "execution_count": 1,
   "metadata": {
    "collapsed": true
   },
   "outputs": [],
   "source": [
    "import numpy as np\n",
    "import scipy as sp\n",
    "import matplotlib.pyplot as plt\n",
    "\n",
    "%matplotlib inline"
   ]
  },
  {
   "cell_type": "code",
   "execution_count": 2,
   "metadata": {
    "collapsed": false
   },
   "outputs": [
    {
     "data": {
      "text/plain": [
       "['',\n",
       " '/opt/conda/lib/python27.zip',\n",
       " '/opt/conda/lib/python2.7',\n",
       " '/opt/conda/lib/python2.7/plat-linux2',\n",
       " '/opt/conda/lib/python2.7/lib-tk',\n",
       " '/opt/conda/lib/python2.7/lib-old',\n",
       " '/opt/conda/lib/python2.7/lib-dynload',\n",
       " '/opt/conda/lib/python2.7/site-packages',\n",
       " '/opt/conda/lib/python2.7/site-packages/Sphinx-1.5.1-py2.7.egg',\n",
       " '/opt/conda/lib/python2.7/site-packages/IPython/extensions',\n",
       " '/root/.ipython',\n",
       " '/notebooks/carputils',\n",
       " '/notebooks/examples']"
      ]
     },
     "execution_count": 2,
     "metadata": {},
     "output_type": "execute_result"
    }
   ],
   "source": [
    "import sys\n",
    "sys.path.append('/notebooks/carputils')\n",
    "sys.path.append('/notebooks/examples')\n",
    "\n",
    "sys.path"
   ]
  },
  {
   "cell_type": "code",
   "execution_count": 3,
   "metadata": {
    "collapsed": true
   },
   "outputs": [],
   "source": [
    "from carputils import settings"
   ]
  },
  {
   "cell_type": "code",
   "execution_count": 4,
   "metadata": {
    "collapsed": false
   },
   "outputs": [
    {
     "name": "stdout",
     "output_type": "stream",
     "text": [
      "Traceback (most recent call last):\r\n",
      "  File \"../examples/tutorials/02_EP_tissue/01_basic_usage/run.py\", line 151, in <module>\r\n",
      "    from carputils import settings\r\n",
      "ImportError: No module named carputils\r\n"
     ]
    }
   ],
   "source": [
    "%run -i ../examples/tutorials/02_EP_tissue/01_basic_usage/run.py"
   ]
  },
  {
   "cell_type": "code",
   "execution_count": null,
   "metadata": {
    "collapsed": true
   },
   "outputs": [],
   "source": [
    "import os\n",
    "from datetime import date\n",
    "\n",
    "from carputils import settings\n",
    "from carputils import tools\n",
    "from carputils import mesh\n",
    "from carputils import testing\n",
    "\n",
    "def parser():\n",
    "    parser = tools.standard_parser()\n",
    "    group  = parser.add_argument_group('experiment specific options')\n",
    "    group.add_argument('--duration',\n",
    "                        type=float, default=20.,\n",
    "                        help='Duration of simulation (ms)')\n",
    "    group.add_argument('--S1-strength',\n",
    "                         type=float, default=20.,\n",
    "                        help='pick transmembrane current stimulus strength in [uA/cm^2] (default is 20.)') \n",
    "    group.add_argument('--S1-dur',\n",
    "                        type=float, default=2.,\n",
    "                        help='pick transmembrane current stimulus duration in [ms] (default is 2.)') \n",
    "    return parser\n",
    "\n",
    "def jobID(args):\n",
    "    \"\"\"\n",
    "    Generate name of top level output directory.\n",
    "    \"\"\"\n",
    "    today = date.today()\n",
    "    return '{}_basic_{}'.format(today.isoformat(), args.duration)\n",
    "\n",
    "@tools.carpexample(parser, jobID)\n",
    "def run(args, job):\n",
    "\n",
    "    # Generate mesh\n",
    "    # Units are mm\n",
    "    \n",
    "    # Block which is thin in z direction\n",
    "    geom = mesh.Block(size=(10., 1., 0.2))\n",
    "    \n",
    "    # Set fibre angle to 0, sheet angle to 0\n",
    "    geom.set_fibres(0, 0, 90, 90)\n",
    "\n",
    "    # Generate and return base name\n",
    "    meshname = mesh.generate(geom)\n",
    "\n",
    "    # Define the geometry of the stimulus at one end of the block\n",
    "    # Units are um\n",
    "\n",
    "    stim = [ '-num_stim',                           1, \n",
    "             '-stimulus[0].name',                 'S1',\n",
    "             '-stimulus[0].stimtype',               0,\n",
    "             '-stimulus[0].strength',   args.S1_strength,\n",
    "             '-stimulus[0].duration',   args.S1_dur ]\n",
    "\n",
    "    electrode = mesh.block_boundary_condition(geom, 'stimulus', 0, 'x', True)\n",
    "\n",
    "\n",
    "\n",
    "    # Get basic command line, including solver options\n",
    "    cmd = tools.carp_cmd('basic.par')\n",
    "\n",
    "    cmd += ['-simID',    job.ID,\n",
    "            '-meshname', meshname,\n",
    "            '-dt',       25,\n",
    "            '-tend',     args.duration]\n",
    "    cmd += stim + electrode\n",
    "\n",
    "    if args.visualize:\n",
    "        cmd += ['-gridout_i', 3]\n",
    "        cmd += ['-gridout_e', 3]\n",
    "        cmd += ['-spacedt', 0.1]\n",
    "\n",
    "    # Run simulation \n",
    "    job.carp(cmd)\n",
    "\n",
    "    # Do visualization\n",
    "    if args.visualize and not settings.platform.BATCH:\n",
    "\n",
    "        # Prepare file paths\n",
    "        geom = os.path.join(job.ID, os.path.basename(meshname)+'_i')\n",
    "        data = os.path.join(job.ID, 'vm.igb.gz')\n",
    "        view = 'view_vm.mshz'\n",
    "        \n",
    "        # Call meshalyzer\n",
    "        job.meshalyzer(geom, data, view)\n",
    "\n",
    "if __name__ == '__main__':\n",
    "    run()    "
   ]
  }
 ],
 "metadata": {
  "kernelspec": {
   "display_name": "Python 2",
   "language": "python",
   "name": "python2"
  },
  "language_info": {
   "codemirror_mode": {
    "name": "ipython",
    "version": 2
   },
   "file_extension": ".py",
   "mimetype": "text/x-python",
   "name": "python",
   "nbconvert_exporter": "python",
   "pygments_lexer": "ipython2",
   "version": "2.7.16"
  }
 },
 "nbformat": 4,
 "nbformat_minor": 2
}
