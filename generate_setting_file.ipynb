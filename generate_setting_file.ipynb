{
 "cells": [
  {
   "cell_type": "code",
   "execution_count": 1,
   "metadata": {
    "collapsed": false
   },
   "outputs": [],
   "source": [
    "import numpy as np\n",
    "import scipy as sp\n",
    "import matplotlib.pyplot as plt\n",
    "\n",
    "%matplotlib inline"
   ]
  },
  {
   "cell_type": "code",
   "execution_count": 3,
   "metadata": {
    "collapsed": false
   },
   "outputs": [],
   "source": [
    "import sys\n",
    "sys.path.append(\"/notebooks/carputils\")\n",
    "sys.path.append(\"/notebooks/examples\")"
   ]
  },
  {
   "cell_type": "markdown",
   "metadata": {},
   "source": [
    "# cusettings"
   ]
  },
  {
   "cell_type": "code",
   "execution_count": 28,
   "metadata": {
    "collapsed": false
   },
   "outputs": [
    {
     "name": "stdout",
     "output_type": "stream",
     "text": [
      "Generating new settings file /notebooks/carputils/settings.yaml\n"
     ]
    }
   ],
   "source": [
    "#!/usr/bin/env python\n",
    "\n",
    "\"\"\"\n",
    "Generate or update a carputils settings file\n",
    "\"\"\"\n",
    "\n",
    "import os\n",
    "import subprocess\n",
    "from carputils.settings.config import new, update\n",
    "\n",
    "epilog = \"\"\"\n",
    "This tool updates or generates a new carputils settings file. The action\n",
    "depends on whether the specified file already exists.\n",
    "\n",
    "New settings files are populated with some default options; some may be\n",
    "customised with the relevant optional command line arguments.\n",
    "\n",
    "Updates to the settings file are done using an internal options backwards\n",
    "compatability mapping. Other command line options to this script are ignored.\n",
    "\"\"\"\n",
    "\n",
    "filename = '/notebooks/carputils/settings.yaml'\n",
    "\n",
    "if os.path.exists(filename):\n",
    "\n",
    "    print('Updating settings file {}'.format(filename))\n",
    "    update(filename)\n",
    "\n",
    "else:\n",
    "\n",
    "    print('Generating new settings file {}'.format(filename))\n",
    "\n",
    "    kwargs = {'software_root': None,\n",
    "              'regression_ref': None,\n",
    "              'regression_pkg': [],\n",
    "              'email': None}\n",
    "\n",
    "#     if args.software_root is not None:\n",
    "#         kwargs['software_root'] = args.software_root\n",
    "\n",
    "#     if args.regression_ref is not None:\n",
    "#         kwargs['regression_ref'] = args.regression_ref\n",
    "\n",
    "#     if args.regression_pkg is not None:\n",
    "#         kwargs['regression_pkg'] = args.regression_pkg\n",
    "\n",
    "    try:\n",
    "        cmd = ['git', 'config', '--get', 'user.email']\n",
    "        email = subprocess.check_output(cmd)\n",
    "    except subprocess.CalledProcessError:\n",
    "        email = None\n",
    "    finally:\n",
    "        kwargs['email'] = email\n",
    "\n",
    "    new(filename, **kwargs)"
   ]
  },
  {
   "cell_type": "code",
   "execution_count": 30,
   "metadata": {
    "collapsed": false
   },
   "outputs": [
    {
     "name": "stdout",
     "output_type": "stream",
     "text": [
      "X11\t\tdconf\t\t initramfs-tools  os-release   systemd\r\n",
      "apt\t\tdpkg\t\t insserv\t  petsc        tar\r\n",
      "at-spi2-core\temacs\t\t ldscripts\t  pkgconfig    tc\r\n",
      "binfmt-support\temacsen-common\t llvm-3.8\t  policykit-1  tmpfiles.d\r\n",
      "binfmt.d\tgcc\t\t locale\t\t  python2.7    valgrind\r\n",
      "carpentry\tgit-core\t mime\t\t  python3      x86_64-linux-gnu\r\n",
      "colord\t\tglib-networking  modules-load.d   python3.5\r\n",
      "compat-ld\tgnupg\t\t mpich\t\t  sasl2\r\n",
      "dbus-1.0\tgold-ld\t\t openssh\t  ssl\r\n"
     ]
    }
   ],
   "source": [
    "! ls /usr/lib/"
   ]
  },
  {
   "cell_type": "code",
   "execution_count": null,
   "metadata": {
    "collapsed": true
   },
   "outputs": [],
   "source": []
  }
 ],
 "metadata": {
  "kernelspec": {
   "display_name": "Python 2",
   "language": "python",
   "name": "python2"
  },
  "language_info": {
   "codemirror_mode": {
    "name": "ipython",
    "version": 2
   },
   "file_extension": ".py",
   "mimetype": "text/x-python",
   "name": "python",
   "nbconvert_exporter": "python",
   "pygments_lexer": "ipython2",
   "version": "2.7.16"
  }
 },
 "nbformat": 4,
 "nbformat_minor": 2
}
